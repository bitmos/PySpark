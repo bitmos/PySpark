{
  "nbformat": 4,
  "nbformat_minor": 0,
  "metadata": {
    "colab": {
      "name": "PySpark_ResultAnalysis.ipynb",
      "provenance": [],
      "collapsed_sections": [],
      "include_colab_link": true
    },
    "kernelspec": {
      "name": "python3",
      "display_name": "Python 3"
    },
    "language_info": {
      "name": "python"
    }
  },
  "cells": [
    {
      "cell_type": "markdown",
      "metadata": {
        "id": "view-in-github",
        "colab_type": "text"
      },
      "source": [
        "<a href=\"https://colab.research.google.com/github/Neha-Nayak/PySpark-1/blob/main/PySpark_ResultAnalysis.ipynb\" target=\"_parent\"><img src=\"https://colab.research.google.com/assets/colab-badge.svg\" alt=\"Open In Colab\"/></a>"
      ]
    },
    {
      "cell_type": "markdown",
      "source": [
        "# RESULT ANALYSIS\n",
        "\n"
      ],
      "metadata": {
        "id": "W3iiNgs05PT5"
      }
    },
    {
      "cell_type": "markdown",
      "source": [
        "Analysis, Prediction and visualization of University marks data in Python using PySpark"
      ],
      "metadata": {
        "id": "bAaqM1aY6BMG"
      }
    },
    {
      "cell_type": "code",
      "source": [
        "#Clone the git repository \n",
        "#!git clone https://github.com/bitmos/PySpark.git"
      ],
      "metadata": {
        "id": "T6DQtSfT63OT"
      },
      "execution_count": 2,
      "outputs": []
    },
    {
      "cell_type": "code",
      "source": [
        "# Install Pyspark\n",
        "!pip install pyspark"
      ],
      "metadata": {
        "colab": {
          "base_uri": "https://localhost:8080/"
        },
        "id": "E7N53Lhi2RMC",
        "outputId": "a4a33282-9159-4bf0-9e3f-84cfcd8d25d4"
      },
      "execution_count": 3,
      "outputs": [
        {
          "output_type": "stream",
          "name": "stdout",
          "text": [
            "Collecting pyspark\n",
            "  Downloading pyspark-3.2.1.tar.gz (281.4 MB)\n",
            "\u001b[K     |████████████████████████████████| 281.4 MB 33 kB/s \n",
            "\u001b[?25hCollecting py4j==0.10.9.3\n",
            "  Downloading py4j-0.10.9.3-py2.py3-none-any.whl (198 kB)\n",
            "\u001b[K     |████████████████████████████████| 198 kB 47.2 MB/s \n",
            "\u001b[?25hBuilding wheels for collected packages: pyspark\n",
            "  Building wheel for pyspark (setup.py) ... \u001b[?25l\u001b[?25hdone\n",
            "  Created wheel for pyspark: filename=pyspark-3.2.1-py2.py3-none-any.whl size=281853642 sha256=f49e372f53c904542f641aa0f46b3792a76ac804127162e7209824d2f683c4c4\n",
            "  Stored in directory: /root/.cache/pip/wheels/9f/f5/07/7cd8017084dce4e93e84e92efd1e1d5334db05f2e83bcef74f\n",
            "Successfully built pyspark\n",
            "Installing collected packages: py4j, pyspark\n",
            "Successfully installed py4j-0.10.9.3 pyspark-3.2.1\n"
          ]
        }
      ]
    },
    {
      "cell_type": "markdown",
      "source": [
        "#####Necessary imports"
      ],
      "metadata": {
        "id": "5pmHedsh7vzl"
      }
    },
    {
      "cell_type": "code",
      "execution_count": 4,
      "metadata": {
        "id": "9KrZmpwEzvEw"
      },
      "outputs": [],
      "source": [
        "from pyspark.sql import SparkSession\n",
        "import sys\n",
        "import os\n",
        "import matplotlib.pyplot as plt\n",
        "import pandas as pd\n",
        "from pyspark.ml.feature import StringIndexer\n",
        "from pyspark.ml.classification import RandomForestClassifier\n",
        "from pyspark.ml.regression import LinearRegression\n",
        "from pyspark.ml.feature import VectorAssembler\n",
        "from pyspark.ml.feature import OneHotEncoder\n",
        "from pyspark.sql.functions import col, when"
      ]
    },
    {
      "cell_type": "markdown",
      "source": [
        "#### Create a Spark Session"
      ],
      "metadata": {
        "id": "Zp6S3Syx8F18"
      }
    },
    {
      "cell_type": "code",
      "source": [
        "spark = SparkSession.builder.appName('Practise').getOrCreate()"
      ],
      "metadata": {
        "id": "BgWKs-Wxz46S"
      },
      "execution_count": 5,
      "outputs": []
    },
    {
      "cell_type": "markdown",
      "source": [
        "#### Load the Result.csv file (Dataset) for Analysis"
      ],
      "metadata": {
        "id": "GQ4wmZiX8Qgi"
      }
    },
    {
      "cell_type": "code",
      "source": [
        "df = spark.read.csv('/content/drive/MyDrive/Colab Notebooks/Results_Data.csv',header=True,inferSchema=True)\n",
        "df.show()"
      ],
      "metadata": {
        "colab": {
          "base_uri": "https://localhost:8080/"
        },
        "id": "Y6pafkFtz_Hm",
        "outputId": "b3296678-e010-4b3a-a4ac-515f0eee56b1"
      },
      "execution_count": 11,
      "outputs": [
        {
          "output_type": "stream",
          "name": "stdout",
          "text": [
            "+----------+--------+---+---+---+------+-----+-----+--------+\n",
            "|       USN|   SCODE|CIE|SEE|TOT|RESULT|GRADE| DATE|ExamType|\n",
            "+----------+--------+---+---+---+------+-----+-----+--------+\n",
            "|4JN18CS001| 18MAT11| 32| 41| 73|     P|    8|12019| Regular|\n",
            "|4JN18CS001| 18PHY12| 29| 47| 76|     P|    8|12019| Regular|\n",
            "|4JN18CS001| 18ELE13| 25| 43| 68|     P|    7|12019| Regular|\n",
            "|4JN18CS001| 18CIV14| 31| 26| 57|     P|    6|12019| Regular|\n",
            "|4JN18CS001|18EGDL15| 31| 56| 87|     P|    9|12019| Regular|\n",
            "|4JN18CS001|18PHYL16| 32| 40| 72|     P|    8|12019| Regular|\n",
            "|4JN18CS001|18ELEL17| 34| 52| 86|     P|    9|12019| Regular|\n",
            "|4JN18CS001| 18EGH18| 27| 32| 59|     P|    6|12019| Regular|\n",
            "|4JN18CS002| 18MAT11| 33| 51| 84|     P|    9|12019| Regular|\n",
            "|4JN18CS002| 18PHY12| 36| 45| 81|     P|    9|12019| Regular|\n",
            "|4JN18CS002| 18ELE13| 37| 31| 68|     P|    7|12019| Regular|\n",
            "|4JN18CS002| 18CIV14| 34| 29| 63|     P|    7|12019| Regular|\n",
            "|4JN18CS002|18EGDL15| 34| 55| 89|     P|    9|12019| Regular|\n",
            "|4JN18CS002|18PHYL16| 31| 44| 75|     P|    8|12019| Regular|\n",
            "|4JN18CS002|18ELEL17| 31| 53| 84|     P|    9|12019| Regular|\n",
            "|4JN18CS002| 18EGH18| 34| 38| 72|     P|    8|12019| Regular|\n",
            "|4JN18CS003| 18MAT11| 37| 44| 81|     P|    9|12019| Regular|\n",
            "|4JN18CS003| 18PHY12| 33| 40| 73|     P|    8|12019| Regular|\n",
            "|4JN18CS003| 18ELE13| 39| 42| 81|     P|    9|12019| Regular|\n",
            "|4JN18CS003| 18CIV14| 39| 33| 72|     P|    8|12019| Regular|\n",
            "+----------+--------+---+---+---+------+-----+-----+--------+\n",
            "only showing top 20 rows\n",
            "\n"
          ]
        }
      ]
    },
    {
      "cell_type": "markdown",
      "source": [
        "### Objective 1: Students Performance in a Subject \n",
        "##### The objective is to visualize the student performance in a particular subject based on the total marks obtained. In a particular subject the average performance of students is visualized based on the total marks obtained. Enter the subject code to view the performance of all students in that subject.A bar graph is depicted for the number of students against total marks obtained in the given subject."
      ],
      "metadata": {
        "id": "cpy-0HhO8nbc"
      }
    },
    {
      "cell_type": "code",
      "source": [
        "def subcode(subname):\n",
        "    plt.title('Bar plot of Total Score against Number of students in subject '+str(subname))\n",
        "    plt.xlabel('Total Marks')\n",
        "    plt.ylabel('Number Of Students')\n",
        "    df_BySub=df.filter(df.SCODE == subname)\n",
        "    x=df_BySub.toPandas()[\"TOT\"].values.tolist()\n",
        "    plt.hist(x,rwidth=0.8)\n",
        "    plt.show()\n",
        "subcode(\"18EGDL15\")"
      ],
      "metadata": {
        "colab": {
          "base_uri": "https://localhost:8080/",
          "height": 295
        },
        "id": "p94ff7_52n7T",
        "outputId": "16907b7d-5535-4c0f-9cda-1c36431ba8d9"
      },
      "execution_count": 12,
      "outputs": [
        {
          "output_type": "display_data",
          "data": {
            "text/plain": [
              "<Figure size 432x288 with 1 Axes>"
            ],
            "image/png": "[encoded data removed]"
          },
          "metadata": {
            "needs_background": "light"
          }
        }
      ]
    },
    {
      "cell_type": "markdown",
      "source": [
        "### Objective 2: Perfomance Prediction (Grade)\n",
        "##### The objective is to predict the performance of a particular student based on the subject code. We use Machine Learning or MLib package in Pyspark to solve this. Subject Code, USN of the student and Year of the exam is given as input, the grade of that students in the subject in the next attempt is displayed."
      ],
      "metadata": {
        "id": "7yuAVynwI7-F"
      }
    },
    {
      "cell_type": "code",
      "source": [
        "#Preprocessing of data\n",
        "import string\n",
        "encoded1= {}\n",
        "count =0\n",
        "for i in string.ascii_uppercase:\n",
        "    if i not in encoded1:\n",
        "        encoded1[i]= count\n",
        "    count = count +1\n",
        "\n",
        "data_itr = df.rdd.toLocalIterator()\n",
        "encoded = []\n",
        "\n",
        "def replace_all1(text, encoded1):\n",
        "    for i, j in encoded1.items():\n",
        "        text = text.replace(i, str(j))\n",
        "    return text\n",
        "\n",
        "for i in data_itr:\n",
        "    a =i['USN'] \n",
        "    b = i['SCODE']\n",
        "    c = i['DATE']\n",
        "    encoded.append({'USN1':a,'encodedUSN':int(replace_all1(a,encoded1)),'SCODE1':b,'DATE1':c})\n",
        "\n",
        "\n",
        "dataframe = spark.createDataFrame(encoded)\n",
        "new = df.join(dataframe,(df.USN ==  dataframe.USN1) & (df.SCODE ==dataframe.SCODE1) & (df.DATE == dataframe.DATE1))\n",
        "new.createOrReplaceTempView(\"df2_view\")\n",
        "\n",
        "\n",
        "dffinal = spark.sql(\n",
        "    \"\"\"\n",
        "    SELECT encodedUSN,GRADE,\n",
        "    (CASE\n",
        "    WHEN SCODE LIKE '%1' THEN 1\n",
        "    WHEN SCODE LIKE '%2' THEN 2\n",
        "    WHEN SCODE LIKE '%3' THEN 3\n",
        "    WHEN SCODE LIKE '%4' THEN 4\n",
        "    WHEN SCODE LIKE '%5' THEN 5\n",
        "    WHEN SCODE LIKE '%6' THEN 6\n",
        "    WHEN SCODE LIKE '%7' THEN 7\n",
        "    WHEN SCODE LIKE '%8' THEN 8\n",
        "    WHEN SCODE LIKE '%9' THEN 9\n",
        "    END) AS SCODEFINAL,\n",
        "    (CASE\n",
        "    WHEN DATE LIKE '%19' THEN 19\n",
        "    WHEN DATE LIKE '%20' THEN 20\n",
        "    END) AS NEWDATE\n",
        "    \n",
        "    FROM df2_view\n",
        "    \"\"\"\n",
        ")\n",
        "featureassembler=VectorAssembler(inputCols=['encodedUSN','NEWDATE','SCODEFINAL'],outputCol=\"NEW\")\n",
        "output=featureassembler.transform(dffinal)\n",
        "\n",
        "df2 = output.select('encodedUSN','NEW','GRADE')\n",
        "limited = df2.limit(2400)\n",
        "\n",
        "train, test = limited.randomSplit([0.9, 0.1])\n",
        "#Linear Regression\n",
        "lr=LinearRegression(featuresCol='NEW', labelCol='GRADE')\n",
        "lrModel=lr.fit(train)\n",
        "\n",
        "#Random Forest\n",
        "rf = RandomForestClassifier(featuresCol = 'NEW', labelCol = 'GRADE')\n",
        "rfModel = rf.fit(train)\n",
        "\n",
        "dftest = spark.read.csv('/content/drive/MyDrive/Colab Notebooks/new.csv',header=True,inferSchema=True)\n",
        "dftest = dftest.limit(15000)\n",
        "\n",
        "data_itr1 = dftest.rdd.toLocalIterator()\n",
        "encoded3 = []\n",
        "\n",
        "def replace_all1(text, encoded1):\n",
        "    for i, j in encoded1.items():\n",
        "        text = text.replace(i, str(j))\n",
        "    return text\n",
        "\n",
        "for i in data_itr1:\n",
        "    a =i['USN'] \n",
        "    b = i['SCODE']\n",
        "    c = i['GRADE']\n",
        "    encoded3.append({'USN1':a,'encodedUSN':int(replace_all1(a,encoded1)),'SCODE1':b,'TOT1':c})\n",
        "\n",
        "dataframe1 = spark.createDataFrame(encoded3)\n",
        "new5 = dftest.join(dataframe1,(dftest.USN ==  dataframe1.USN1) & (dftest.SCODE ==dataframe1.SCODE1) )\n",
        "new5.createOrReplaceTempView(\"df7_view\")\n",
        "\n",
        "dffinal7 = spark.sql(\n",
        "    \"\"\"\n",
        "    SELECT USN,encodedUSN,GRADE,\n",
        "    (CASE\n",
        "    WHEN SCODE LIKE '%1' THEN 1\n",
        "    WHEN SCODE LIKE '%2' THEN 2\n",
        "    WHEN SCODE LIKE '%3' THEN 3\n",
        "    WHEN SCODE LIKE '%4' THEN 4\n",
        "    WHEN SCODE LIKE '%5' THEN 5\n",
        "    WHEN SCODE LIKE '%6' THEN 6\n",
        "    WHEN SCODE LIKE '%7' THEN 7\n",
        "    WHEN SCODE LIKE '%8' THEN 8\n",
        "    WHEN SCODE LIKE '%9' THEN 9\n",
        "    END) AS SCODEFINAL,\n",
        "    (CASE\n",
        "    WHEN DATE LIKE '%19' THEN 19\n",
        "    WHEN DATE LIKE '%21' THEN 21\n",
        "    END) AS NEWDATE\n",
        "    \n",
        "    FROM df7_view\n",
        "    \"\"\"\n",
        ")\n",
        "featureassembler=VectorAssembler(inputCols=['encodedUSN','NEWDATE','SCODEFINAL'],outputCol=\"NEW\")\n",
        "output1=featureassembler.transform(dffinal7)\n",
        "testfinal = output1.select('NEW','USN','encodedUSN','GRADE')\n",
        "print(\"Training Dataset Count: \" + str(train.count()))\n",
        "print(\"Test Dataset Count: \" + str(test.count()))\n",
        "\n"
      ],
      "metadata": {
        "id": "B7ObGolnL4Uc",
        "outputId": "86ac91ad-f20f-411f-9393-abcf62d3c327",
        "colab": {
          "base_uri": "https://localhost:8080/"
        }
      },
      "execution_count": 18,
      "outputs": [
        {
          "output_type": "stream",
          "name": "stdout",
          "text": [
            "Training Dataset Count: 2153\n",
            "Test Dataset Count: 247\n"
          ]
        }
      ]
    },
    {
      "cell_type": "code",
      "source": [
        "#Output of Linear Regression\n",
        "predictions2 = lrModel.transform(testfinal)\n",
        "predictions2.select(['encodedUSN','GRADE','prediction']).show(25)"
      ],
      "metadata": {
        "id": "6e5oSNVpM0eQ",
        "outputId": "87506115-e353-4a19-8ecb-572f9f93edee",
        "colab": {
          "base_uri": "https://localhost:8080/"
        }
      },
      "execution_count": 19,
      "outputs": [
        {
          "output_type": "stream",
          "name": "stdout",
          "text": [
            "+------------+-----+------------------+\n",
            "|  encodedUSN|GRADE|        prediction|\n",
            "+------------+-----+------------------+\n",
            "|491318218001|    8| 6.781346004339866|\n",
            "|491318218001|    8| 6.808439325017389|\n",
            "|491318218001|    7|6.8355326456949115|\n",
            "|491318218001|    6| 6.862625966372434|\n",
            "|491318218001|    9| 6.889719287049957|\n",
            "|491318218001|    8| 6.916812607727479|\n",
            "|491318218001|    9| 6.943905928405002|\n",
            "|491318218001|    6| 6.970999249140732|\n",
            "|491318218002|    9| 6.781346710107755|\n",
            "|491318218002|    9|6.8084400307852775|\n",
            "|491318218002|    7|   6.8355333514628|\n",
            "|491318218002|    7| 6.862626672140323|\n",
            "|491318218002|    9| 6.889719992817845|\n",
            "|491318218002|    8| 6.916813313495368|\n",
            "|491318218002|    9|  6.94390663417289|\n",
            "|491318218002|    8| 6.970999954908621|\n",
            "|491318218003|    9|6.7813474158756435|\n",
            "|491318218003|    8| 6.808440736553166|\n",
            "|491318218003|    9| 6.835534057230689|\n",
            "|491318218003|    8| 6.862627377908211|\n",
            "|491318218003|    6| 6.889720698585734|\n",
            "|491318218003|    6| 6.916814019263256|\n",
            "|491318218003|    9| 6.943907339940779|\n",
            "|491318218003|    8| 6.971000660676509|\n",
            "|491318218004|    5| 6.781348121643532|\n",
            "+------------+-----+------------------+\n",
            "only showing top 25 rows\n",
            "\n"
          ]
        }
      ]
    },
    {
      "cell_type": "code",
      "source": [
        "#Output of Random Forest\n",
        "predictions = rfModel.transform(testfinal)\n",
        "predictions.select(['encodedUSN','GRADE','prediction']).show(25)\n"
      ],
      "metadata": {
        "id": "FRAfrPxnMuqP",
        "outputId": "a07c11bd-b5b7-4ee0-9fec-bde481060e88",
        "colab": {
          "base_uri": "https://localhost:8080/"
        }
      },
      "execution_count": 20,
      "outputs": [
        {
          "output_type": "stream",
          "name": "stdout",
          "text": [
            "+------------+-----+----------+\n",
            "|  encodedUSN|GRADE|prediction|\n",
            "+------------+-----+----------+\n",
            "|491318218001|    8|       9.0|\n",
            "|491318218001|    8|       8.0|\n",
            "|491318218001|    7|       7.0|\n",
            "|491318218001|    6|       7.0|\n",
            "|491318218001|    9|       9.0|\n",
            "|491318218001|    8|       9.0|\n",
            "|491318218001|    9|       9.0|\n",
            "|491318218001|    6|       7.0|\n",
            "|491318218002|    9|       9.0|\n",
            "|491318218002|    9|       8.0|\n",
            "|491318218002|    7|       7.0|\n",
            "|491318218002|    7|       7.0|\n",
            "|491318218002|    9|       9.0|\n",
            "|491318218002|    8|       9.0|\n",
            "|491318218002|    9|       9.0|\n",
            "|491318218002|    8|       7.0|\n",
            "|491318218003|    9|       9.0|\n",
            "|491318218003|    8|       8.0|\n",
            "|491318218003|    9|       7.0|\n",
            "|491318218003|    8|       7.0|\n",
            "|491318218003|    6|       9.0|\n",
            "|491318218003|    6|       9.0|\n",
            "|491318218003|    9|       9.0|\n",
            "|491318218003|    8|       7.0|\n",
            "|491318218004|    5|       9.0|\n",
            "+------------+-----+----------+\n",
            "only showing top 25 rows\n",
            "\n"
          ]
        }
      ]
    },
    {
      "cell_type": "markdown",
      "source": [
        "### Objective 3: Backlog Analysis\n",
        "##### The objective is to analyze whether a student with backlog has cleared the exam in the successive attempt. This analysis is done based on the Examtype specified in the dataset, if the examtype if specified as 'regular' then the subject has been cleared by the student. On providing the USN of a student, the subjects in which the student has a backlog is listed out, and the subjects which have been cleared in the successive attempt will be displayed. If the students has not cleared any backlogs, a message stating the same is displayed. If the student does not have any backlog then a message stating subjects have not been failed will be displayed.\n"
      ],
      "metadata": {
        "id": "oun-U6UpE7ed"
      }
    },
    {
      "cell_type": "code",
      "source": [
        "#Filter the unnecessary Coloumns\n",
        "df1=df.select('USN','SCODE','TOT','RESULT','ExamType')\n",
        "#Drop null values\n",
        "dftry=df1.na.drop(how='any',subset='ExamType')\n",
        "#Select Students who failed Regular Exam\n",
        "df2=dftry.filter((dftry.ExamType == 'Regular') & (dftry.RESULT == \"F\"))\n",
        "#Function for determining whether a student has passed in the backlog exam.\n",
        "def check_usn(usn):\n",
        "  sub=[]\n",
        "  flag=[]\n",
        "  df2=dftry.filter((dftry.ExamType == 'Regular') & (dftry.RESULT == \"F\") & (dftry.USN == usn))\n",
        "  df3=dftry.filter((dftry.ExamType == 'Backlog') & (dftry.RESULT == \"P\") & (dftry.USN == usn))\n",
        "  for i in df2.select(\"SCODE\").collect():\n",
        "    sub.append(i['SCODE'])\n",
        "    if i['SCODE'] in df3.toPandas()[\"SCODE\"].values.tolist():\n",
        "      flag.append(i['SCODE'])\n",
        "  return sub,flag\n",
        "output=check_usn(\"4JN18CS047\")\n",
        "subFail=output[0]\n",
        "subPass=output[1]\n",
        "#Output\n",
        "print(\"Sujects Failed:\", subFail)\n",
        "print(\"Sujects Passed:\", subPass)"
      ],
      "metadata": {
        "id": "BCTGUz4DDewb",
        "outputId": "7170d942-e797-4fce-c449-424ad67265dd",
        "colab": {
          "base_uri": "https://localhost:8080/"
        }
      },
      "execution_count": 15,
      "outputs": [
        {
          "output_type": "stream",
          "name": "stdout",
          "text": [
            "Sujects Failed: ['18MAT11', '18ELE13', '18CIV14', '18EGDL15', '18PHYL16', '18MAT21', '18ELN24']\n",
            "Sujects Passed: ['18CIV14']\n"
          ]
        }
      ]
    },
    {
      "cell_type": "markdown",
      "source": [
        "### Objective 4: Pass or Fail Analysis\n",
        "##### The objective is to visualize the number of students passed or failed in a particular subject. This analysis is done using the result specified in the dataset which can be either Pass(P) or Fail(F). A Bar graph is plotted using Matplotlib, a python library. The subject code is the input and the graph of that particular subject is shown."
      ],
      "metadata": {
        "id": "absN0sLD_J5q"
      }
    },
    {
      "cell_type": "code",
      "source": [
        "valueWhenTrue = \"F\"  # for example\n",
        "\n",
        "df_ResultData=df.withColumn(\n",
        "    \"RESULT\",\n",
        "    when(\n",
        "        col(\"RESULT\") == 'A',\n",
        "        valueWhenTrue\n",
        "    ).otherwise(col(\"RESULT\"))\n",
        ")\n",
        "x = ['Pass','Fail']\n",
        "x_pos = [i for i, _ in enumerate(x)]\n",
        "y=[df_ResultData.filter(df_ResultData.RESULT == \"P\").count(),df_ResultData.filter(df_ResultData.RESULT == \"F\").count()]\n",
        "def subcode(subname):\n",
        "    fig = plt.figure()\n",
        "    plt.title('Plot of Total Students Passed in Subject '+ subname)\n",
        "    plt.xlabel('Result')\n",
        "    plt.ylabel('Number Of Students')\n",
        "    plt.bar(x,y)\n",
        "    plt.xticks(x_pos, x)\n",
        "    plt.tight_layout()\n",
        "    fig.set_figheight(8)\n",
        "    fig.set_figwidth(6)\n",
        "    plt.show()\n",
        "subcode(\"18MAT11\")"
      ],
      "metadata": {
        "colab": {
          "base_uri": "https://localhost:8080/",
          "height": 517
        },
        "id": "je-8FZIN2z9X",
        "outputId": "05595cba-d5d4-4d91-864a-5bf8c33d28fd"
      },
      "execution_count": 16,
      "outputs": [
        {
          "output_type": "display_data",
          "data": {
            "text/plain": [
              "<Figure size 432x576 with 1 Axes>"
            ],
            "image/png": "[encoded data removed]"
          },
          "metadata": {
            "needs_background": "light"
          }
        }
      ]
    },
    {
      "cell_type": "markdown",
      "source": [
        "### Objective 5: Semester-wise Performance Analysis\n",
        "##### The objective is to visualize the student performance based on a particular year or semester.The analysis is done by taking average of total marks obtained by a student in a particularsemester. A line chart is plotted to visualize the analysis made. Enter the students USN and performance graph of the same will be displayed."
      ],
      "metadata": {
        "id": "I4RNI_xuAbVo"
      }
    },
    {
      "cell_type": "code",
      "source": [
        "#Columns USN, DATE and TOTAL are formatted for our test case.\n",
        "dfT = df.withColumn(\"DATE\", when(df_ResultData.DATE == 'Jul-20','2020-Jul')\n",
        "                                 .when(df_ResultData.DATE == '20-Jul','2020-Jul')\n",
        "                                 .when(df_ResultData.DATE == 'Jan-20','2020-Jan')\n",
        "                                 .when(df_ResultData.DATE == '12019','2019-Jan')\n",
        "                                 .when(df_ResultData.DATE == '72019','2019-Jul')\n",
        "                                 .when(df_ResultData.DATE == '12020','2020-Jan')\n",
        "                                 .when(df_ResultData.DATE == '72020','2020-Jul'))\n",
        "#Selecting a particular USN for whom the performance graph will be plotted\n",
        "def filter(usn):\n",
        "  dftry1=dfT.filter(dfT.USN == usn)\n",
        "  return dftry1\n",
        "def USN(usn):\n",
        "      df_usn=filter(usn)\n",
        "      df_data=df_usn.select('DATE','TOT')\n",
        "      #Obtaining Average of Total marks for a student in a particulat semester.\n",
        "      dfPlot1=df_data.groupBy(\"DATE\").avg(\"TOT\")\n",
        "      dfPlot=dfPlot1.sort('DATE')\n",
        "      #Line plot for Student performance, which determines the average of total marks obtained by the student in a particular semester.\n",
        "      plt.title('Student Performnace')\n",
        "      plt.xlabel('Year')\n",
        "      plt.ylabel('Total Marks')\n",
        "      x=dfPlot.toPandas()['DATE'].values.tolist()\n",
        "      y=dfPlot.toPandas()['avg(TOT)'].values.tolist()\n",
        "      plt.plot(x,y,marker = 'o')\n",
        "      plt.ylim(0,100)\n",
        "      plt.show()\n",
        "#Input       \n",
        "USN('4JN17CS010')"
      ],
      "metadata": {
        "colab": {
          "base_uri": "https://localhost:8080/",
          "height": 295
        },
        "id": "fdSUNl8n3UZB",
        "outputId": "1e4ab09c-e944-4dcd-876e-2a68bb7f75f4"
      },
      "execution_count": 17,
      "outputs": [
        {
          "output_type": "display_data",
          "data": {
            "text/plain": [
              "<Figure size 432x288 with 1 Axes>"
            ],
            "image/png": "[encoded data removed]"
          },
          "metadata": {
            "needs_background": "light"
          }
        }
      ]
    },
    {
      "cell_type": "markdown",
      "source": [
        "### Objective 6: Consecutive score prediction\n",
        "##### The objective is to predict the score of a student in the consecutive semester based on the score of the similar subject in present or previous semesters. We use Machine Learning or MLib package in Pyspark to solve this. Subject Code, USN of the student and Year of the exam is given as input by the user, the total marks of that students in the specified subject in the next semester is displayed."
      ],
      "metadata": {
        "id": "1EAB3dVy5QB2"
      }
    },
    {
      "cell_type": "code",
      "source": [
        "import string\n",
        "encoded1= {}\n",
        "count =0\n",
        "for i in string.ascii_uppercase:\n",
        "    if i not in encoded1:\n",
        "        encoded1[i]= count\n",
        "    count = count +1\n",
        "\n",
        "data_itr = df.rdd.toLocalIterator()\n",
        "encoded = []\n",
        "\n",
        "def replace_all1(text, encoded1):\n",
        "    for i, j in encoded1.items():\n",
        "        text = text.replace(i, str(j))\n",
        "    return text\n",
        "\n",
        "for i in data_itr:\n",
        "    a =i['USN'] \n",
        "    b = i['SCODE']\n",
        "    c = i['DATE']\n",
        "    encoded.append({'USN1':a,'encodedUSN':int(replace_all1(a,encoded1)),'SCODE1':b,'DATE1':c})\n",
        "\n",
        "\n",
        "dataframe = spark.createDataFrame(encoded)\n",
        "new = df.join(dataframe,(df.USN ==  dataframe.USN1) & (df.SCODE ==dataframe.SCODE1) & (df.DATE == dataframe.DATE1))\n",
        "new.createOrReplaceTempView(\"df2_view\")\n",
        "\n",
        "\n",
        "dffinal = spark.sql(\n",
        "    \"\"\"\n",
        "    SELECT encodedUSN,TOT,\n",
        "    (CASE\n",
        "    WHEN SCODE LIKE '%1' THEN 1\n",
        "    WHEN SCODE LIKE '%2' THEN 2\n",
        "    WHEN SCODE LIKE '%3' THEN 3\n",
        "    WHEN SCODE LIKE '%4' THEN 4\n",
        "    WHEN SCODE LIKE '%5' THEN 5\n",
        "    WHEN SCODE LIKE '%6' THEN 6\n",
        "    WHEN SCODE LIKE '%7' THEN 7\n",
        "    WHEN SCODE LIKE '%8' THEN 8\n",
        "    WHEN SCODE LIKE '%9' THEN 9\n",
        "    END) AS SCODEFINAL,\n",
        "    (CASE\n",
        "    WHEN DATE LIKE '%19' THEN 19\n",
        "    WHEN DATE LIKE '%20' THEN 20\n",
        "    END) AS NEWDATE\n",
        "    \n",
        "    FROM df2_view\n",
        "    \"\"\"\n",
        ")\n",
        "featureassembler=VectorAssembler(inputCols=['encodedUSN','NEWDATE','SCODEFINAL'],outputCol=\"NEW\")\n",
        "output=featureassembler.transform(dffinal)\n",
        "\n",
        "df2 = output.select('encodedUSN','NEW','TOT')\n",
        "limited = df2.limit(1050)\n",
        "\n",
        "train, test = limited.randomSplit([0.9, 0.1])\n",
        "\n",
        "lr=LinearRegression(featuresCol='NEW', labelCol='TOT')\n",
        "lrModel=lr.fit(train)\n",
        "\n",
        "rf = RandomForestClassifier(featuresCol = 'NEW', labelCol = 'TOT')\n",
        "rfModel = rf.fit(train)\n",
        "\n",
        "dftest = spark.read.csv('/content/drive/MyDrive/Colab Notebooks/new1.csv',header=True,inferSchema=True)\n",
        "dftest = dftest.limit(15000)\n",
        "\n",
        "data_itr1 = dftest.rdd.toLocalIterator()\n",
        "encoded3 = []\n",
        "\n",
        "def replace_all1(text, encoded1):\n",
        "    for i, j in encoded1.items():\n",
        "        text = text.replace(i, str(j))\n",
        "    return text\n",
        "\n",
        "for i in data_itr1:\n",
        "    a =i['USN'] \n",
        "    b = i['SCODE']\n",
        "    c = i['TOT']\n",
        "    encoded3.append({'USN1':a,'encodedUSN':int(replace_all1(a,encoded1)),'SCODE1':b,'TOT1':c})\n",
        "\n",
        "dataframe1 = spark.createDataFrame(encoded3)\n",
        "new5 = dftest.join(dataframe1,(dftest.USN ==  dataframe1.USN1) & (dftest.SCODE ==dataframe1.SCODE1) )\n",
        "new5.createOrReplaceTempView(\"df7_view\")\n",
        "\n",
        "dffinal7 = spark.sql(\n",
        "    \"\"\"\n",
        "    SELECT USN,encodedUSN,TOT,\n",
        "    (CASE\n",
        "    WHEN SCODE LIKE '%1' THEN 1\n",
        "    WHEN SCODE LIKE '%2' THEN 2\n",
        "    WHEN SCODE LIKE '%3' THEN 3\n",
        "    WHEN SCODE LIKE '%4' THEN 4\n",
        "    WHEN SCODE LIKE '%5' THEN 5\n",
        "    WHEN SCODE LIKE '%6' THEN 6\n",
        "    WHEN SCODE LIKE '%7' THEN 7\n",
        "    WHEN SCODE LIKE '%8' THEN 8\n",
        "    WHEN SCODE LIKE '%9' THEN 9\n",
        "    END) AS SCODEFINAL,\n",
        "    (CASE\n",
        "    WHEN DATE LIKE '%19' THEN 19\n",
        "    WHEN DATE LIKE '%21' THEN 21\n",
        "    END) AS NEWDATE\n",
        "    \n",
        "    FROM df7_view\n",
        "    \"\"\"\n",
        ")\n",
        "featureassembler=VectorAssembler(inputCols=['encodedUSN','NEWDATE','SCODEFINAL'],outputCol=\"NEW\")\n",
        "output1=featureassembler.transform(dffinal7)\n",
        "testfinal = output1.select('NEW','USN','encodedUSN','TOT')"
      ],
      "metadata": {
        "id": "D62SPCX41aG6"
      },
      "execution_count": 21,
      "outputs": []
    },
    {
      "cell_type": "code",
      "source": [
        "#Output of Linear Regression\n",
        "predictions2 = lrModel.transform(testfinal)\n",
        "predictions2.select(['encodedUSN','TOT','prediction']).show(25)"
      ],
      "metadata": {
        "colab": {
          "base_uri": "https://localhost:8080/"
        },
        "id": "rdrcXlL46t0k",
        "outputId": "a8446e90-a64d-4a74-d4e2-8db60753bdde"
      },
      "execution_count": 22,
      "outputs": [
        {
          "output_type": "stream",
          "name": "stdout",
          "text": [
            "+------------+---+-----------------+\n",
            "|  encodedUSN|TOT|       prediction|\n",
            "+------------+---+-----------------+\n",
            "|491318218001| 73|67.32382491137832|\n",
            "|491318218001| 76| 68.2974499957636|\n",
            "|491318218001| 68| 69.2710750810802|\n",
            "|491318218001| 57| 70.2447001663968|\n",
            "|491318218001| 87|71.21832525078207|\n",
            "|491318218001| 72|72.19195033609867|\n",
            "|491318218001| 86|73.16557542141527|\n",
            "|491318218001| 59|74.13920050580055|\n",
            "|491318218002| 84|67.32383823208511|\n",
            "|491318218002| 81|68.29746331647038|\n",
            "|491318218002| 68|69.27108840178698|\n",
            "|491318218002| 63|70.24471348710358|\n",
            "|491318218002| 89|71.21833857148886|\n",
            "|491318218002| 75|72.19196365680546|\n",
            "|491318218002| 84|73.16558874212205|\n",
            "|491318218002| 72|74.13921382650733|\n",
            "|491318218003| 81|67.32385155186057|\n",
            "|491318218003| 73|68.29747663624585|\n",
            "|491318218003| 81|69.27110172156245|\n",
            "|491318218003| 72|70.24472680687904|\n",
            "|491318218003| 57|71.21835189126432|\n",
            "|491318218003| 57|72.19197697658092|\n",
            "|491318218003| 83|73.16560206189752|\n",
            "|491318218003| 75|74.13922714628279|\n",
            "|491318218004| 46|67.32386487163603|\n",
            "+------------+---+-----------------+\n",
            "only showing top 25 rows\n",
            "\n"
          ]
        }
      ]
    },
    {
      "cell_type": "code",
      "source": [
        "#Output of Random Forest\n",
        "predictions = rfModel.transform(testfinal)\n",
        "predictions.select(['encodedUSN','TOT','prediction']).show(25)"
      ],
      "metadata": {
        "colab": {
          "base_uri": "https://localhost:8080/"
        },
        "id": "4gyaZfYd6u0t",
        "outputId": "818230ff-6ac8-468d-9ca0-e9985133e871"
      },
      "execution_count": 23,
      "outputs": [
        {
          "output_type": "stream",
          "name": "stdout",
          "text": [
            "+------------+---+----------+\n",
            "|  encodedUSN|TOT|prediction|\n",
            "+------------+---+----------+\n",
            "|491318218001| 73|      73.0|\n",
            "|491318218001| 76|      73.0|\n",
            "|491318218001| 68|      68.0|\n",
            "|491318218001| 57|      63.0|\n",
            "|491318218001| 87|      87.0|\n",
            "|491318218001| 72|      87.0|\n",
            "|491318218001| 86|      83.0|\n",
            "|491318218001| 59|      72.0|\n",
            "|491318218002| 84|      73.0|\n",
            "|491318218002| 81|      73.0|\n",
            "|491318218002| 68|      68.0|\n",
            "|491318218002| 63|      63.0|\n",
            "|491318218002| 89|      87.0|\n",
            "|491318218002| 75|      87.0|\n",
            "|491318218002| 84|      83.0|\n",
            "|491318218002| 72|      72.0|\n",
            "|491318218003| 81|      73.0|\n",
            "|491318218003| 73|      73.0|\n",
            "|491318218003| 81|      68.0|\n",
            "|491318218003| 72|      63.0|\n",
            "|491318218003| 57|      87.0|\n",
            "|491318218003| 57|      87.0|\n",
            "|491318218003| 83|      83.0|\n",
            "|491318218003| 75|      72.0|\n",
            "|491318218004| 46|      73.0|\n",
            "+------------+---+----------+\n",
            "only showing top 25 rows\n",
            "\n"
          ]
        }
      ]
    }
  ]
}